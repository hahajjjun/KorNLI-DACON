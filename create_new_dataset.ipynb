{
  "nbformat": 4,
  "nbformat_minor": 0,
  "metadata": {
    "colab": {
      "name": "MOD_Train.ipynb",
      "provenance": []
    },
    "kernelspec": {
      "name": "python3",
      "display_name": "Python 3"
    },
    "language_info": {
      "name": "python"
    }
  },
  "cells": [
    {
      "cell_type": "markdown",
      "source": [
        "### File Explanations\n",
        "- Kakao NLI Datasets\n",
        "  - snli Dataset(Big, 500K) : Train, Test와 겹치는지 확인, 1개 겹치는 Hypothesis가 있어 제거함\n",
        "  - xnli.dev Dataset(Small, 2K) : 겹치는 항목 없음\n",
        "  - Data Available at : [KakaoBrain Github](https://github.com/kakaobrain/KorNLUDatasets/tree/master/KorNLI)"
      ],
      "metadata": {
        "id": "qxqf7z77roiM"
      }
    },
    {
      "cell_type": "code",
      "source": [
        "from tqdm import tqdm"
      ],
      "metadata": {
        "id": "rAuaSDetgns1"
      },
      "execution_count": 63,
      "outputs": []
    },
    {
      "cell_type": "code",
      "execution_count": 64,
      "metadata": {
        "id": "6CMdI6SGYHD5"
      },
      "outputs": [],
      "source": [
        "import pandas as pd\n",
        "\n",
        "TRAIN = '/content/drive/MyDrive/DACON_MONTHLYNLI/train_data.csv'\n",
        "TEST = '/content/drive/MyDrive/DACON_MONTHLYNLI/test_data.csv'\n",
        "NEW = '/content/drive/MyDrive/DACON_MONTHLYNLI/snli.tsv'\n",
        "train = pd.read_csv(TRAIN)\n",
        "test = pd.read_csv(TEST)\n",
        "new = pd.read_csv(NEW, sep = '\\t')"
      ]
    },
    {
      "cell_type": "code",
      "source": [
        "new.columns = ['premise', 'hypothesis', 'label']\n",
        "new"
      ],
      "metadata": {
        "colab": {
          "base_uri": "https://localhost:8080/",
          "height": 424
        },
        "id": "36nYLG9scS5E",
        "outputId": "05483c05-9b8d-42b1-9b63-9a6a3e7e8fb8"
      },
      "execution_count": 65,
      "outputs": [
        {
          "output_type": "execute_result",
          "data": {
            "text/html": [
              "\n",
              "  <div id=\"df-d964602f-e176-43d6-9f6d-981257ef72e8\">\n",
              "    <div class=\"colab-df-container\">\n",
              "      <div>\n",
              "<style scoped>\n",
              "    .dataframe tbody tr th:only-of-type {\n",
              "        vertical-align: middle;\n",
              "    }\n",
              "\n",
              "    .dataframe tbody tr th {\n",
              "        vertical-align: top;\n",
              "    }\n",
              "\n",
              "    .dataframe thead th {\n",
              "        text-align: right;\n",
              "    }\n",
              "</style>\n",
              "<table border=\"1\" class=\"dataframe\">\n",
              "  <thead>\n",
              "    <tr style=\"text-align: right;\">\n",
              "      <th></th>\n",
              "      <th>premise</th>\n",
              "      <th>hypothesis</th>\n",
              "      <th>label</th>\n",
              "    </tr>\n",
              "  </thead>\n",
              "  <tbody>\n",
              "    <tr>\n",
              "      <th>0</th>\n",
              "      <td>말을 탄 사람이 고장난 비행기 위로 뛰어오른다.</td>\n",
              "      <td>한 사람이 경쟁을 위해 말을 훈련시키고 있다.</td>\n",
              "      <td>neutral</td>\n",
              "    </tr>\n",
              "    <tr>\n",
              "      <th>1</th>\n",
              "      <td>말을 탄 사람이 고장난 비행기 위로 뛰어오른다.</td>\n",
              "      <td>한 사람이 식당에서 오믈렛을 주문하고 있다.</td>\n",
              "      <td>contradiction</td>\n",
              "    </tr>\n",
              "    <tr>\n",
              "      <th>2</th>\n",
              "      <td>말을 탄 사람이 고장난 비행기 위로 뛰어오른다.</td>\n",
              "      <td>사람은 야외에서 말을 타고 있다.</td>\n",
              "      <td>entailment</td>\n",
              "    </tr>\n",
              "    <tr>\n",
              "      <th>3</th>\n",
              "      <td>카메라에 웃고 손을 흔드는 아이들</td>\n",
              "      <td>그들은 부모님을 보고 웃고 있다</td>\n",
              "      <td>neutral</td>\n",
              "    </tr>\n",
              "    <tr>\n",
              "      <th>4</th>\n",
              "      <td>카메라에 웃고 손을 흔드는 아이들</td>\n",
              "      <td>아이들이 있다</td>\n",
              "      <td>entailment</td>\n",
              "    </tr>\n",
              "    <tr>\n",
              "      <th>...</th>\n",
              "      <td>...</td>\n",
              "      <td>...</td>\n",
              "      <td>...</td>\n",
              "    </tr>\n",
              "    <tr>\n",
              "      <th>550147</th>\n",
              "      <td>네 명의 더러운 맨발의 아이들.</td>\n",
              "      <td>4명의 아이들이 '가장 깨끗한 발'로 상을 받았다</td>\n",
              "      <td>contradiction</td>\n",
              "    </tr>\n",
              "    <tr>\n",
              "      <th>550148</th>\n",
              "      <td>네 명의 더러운 맨발의 아이들.</td>\n",
              "      <td>네 명의 노숙자 아이들이 신발을 도둑맞아서 그들의 발이 더러워졌다.</td>\n",
              "      <td>neutral</td>\n",
              "    </tr>\n",
              "    <tr>\n",
              "      <th>550149</th>\n",
              "      <td>한 남자가 아름다운 푸른 물에서 바디슈트를 입고 서핑을 하고 있다.</td>\n",
              "      <td>바디슈트를 입은 남자가 서핑 대회에 참가하고 있다.</td>\n",
              "      <td>neutral</td>\n",
              "    </tr>\n",
              "    <tr>\n",
              "      <th>550150</th>\n",
              "      <td>한 남자가 아름다운 푸른 물에서 바디슈트를 입고 서핑을 하고 있다.</td>\n",
              "      <td>비즈니스 슈트를 입은 남자가 이사회로 향하고 있다.</td>\n",
              "      <td>contradiction</td>\n",
              "    </tr>\n",
              "    <tr>\n",
              "      <th>550151</th>\n",
              "      <td>한 남자가 아름다운 푸른 물에서 바디슈트를 입고 서핑을 하고 있다.</td>\n",
              "      <td>아름다운 푸른 물 위에는 바디슈트를 입은 남자가 서핑을 하고 있다.</td>\n",
              "      <td>entailment</td>\n",
              "    </tr>\n",
              "  </tbody>\n",
              "</table>\n",
              "<p>550152 rows × 3 columns</p>\n",
              "</div>\n",
              "      <button class=\"colab-df-convert\" onclick=\"convertToInteractive('df-d964602f-e176-43d6-9f6d-981257ef72e8')\"\n",
              "              title=\"Convert this dataframe to an interactive table.\"\n",
              "              style=\"display:none;\">\n",
              "        \n",
              "  <svg xmlns=\"http://www.w3.org/2000/svg\" height=\"24px\"viewBox=\"0 0 24 24\"\n",
              "       width=\"24px\">\n",
              "    <path d=\"M0 0h24v24H0V0z\" fill=\"none\"/>\n",
              "    <path d=\"M18.56 5.44l.94 2.06.94-2.06 2.06-.94-2.06-.94-.94-2.06-.94 2.06-2.06.94zm-11 1L8.5 8.5l.94-2.06 2.06-.94-2.06-.94L8.5 2.5l-.94 2.06-2.06.94zm10 10l.94 2.06.94-2.06 2.06-.94-2.06-.94-.94-2.06-.94 2.06-2.06.94z\"/><path d=\"M17.41 7.96l-1.37-1.37c-.4-.4-.92-.59-1.43-.59-.52 0-1.04.2-1.43.59L10.3 9.45l-7.72 7.72c-.78.78-.78 2.05 0 2.83L4 21.41c.39.39.9.59 1.41.59.51 0 1.02-.2 1.41-.59l7.78-7.78 2.81-2.81c.8-.78.8-2.07 0-2.86zM5.41 20L4 18.59l7.72-7.72 1.47 1.35L5.41 20z\"/>\n",
              "  </svg>\n",
              "      </button>\n",
              "      \n",
              "  <style>\n",
              "    .colab-df-container {\n",
              "      display:flex;\n",
              "      flex-wrap:wrap;\n",
              "      gap: 12px;\n",
              "    }\n",
              "\n",
              "    .colab-df-convert {\n",
              "      background-color: #E8F0FE;\n",
              "      border: none;\n",
              "      border-radius: 50%;\n",
              "      cursor: pointer;\n",
              "      display: none;\n",
              "      fill: #1967D2;\n",
              "      height: 32px;\n",
              "      padding: 0 0 0 0;\n",
              "      width: 32px;\n",
              "    }\n",
              "\n",
              "    .colab-df-convert:hover {\n",
              "      background-color: #E2EBFA;\n",
              "      box-shadow: 0px 1px 2px rgba(60, 64, 67, 0.3), 0px 1px 3px 1px rgba(60, 64, 67, 0.15);\n",
              "      fill: #174EA6;\n",
              "    }\n",
              "\n",
              "    [theme=dark] .colab-df-convert {\n",
              "      background-color: #3B4455;\n",
              "      fill: #D2E3FC;\n",
              "    }\n",
              "\n",
              "    [theme=dark] .colab-df-convert:hover {\n",
              "      background-color: #434B5C;\n",
              "      box-shadow: 0px 1px 3px 1px rgba(0, 0, 0, 0.15);\n",
              "      filter: drop-shadow(0px 1px 2px rgba(0, 0, 0, 0.3));\n",
              "      fill: #FFFFFF;\n",
              "    }\n",
              "  </style>\n",
              "\n",
              "      <script>\n",
              "        const buttonEl =\n",
              "          document.querySelector('#df-d964602f-e176-43d6-9f6d-981257ef72e8 button.colab-df-convert');\n",
              "        buttonEl.style.display =\n",
              "          google.colab.kernel.accessAllowed ? 'block' : 'none';\n",
              "\n",
              "        async function convertToInteractive(key) {\n",
              "          const element = document.querySelector('#df-d964602f-e176-43d6-9f6d-981257ef72e8');\n",
              "          const dataTable =\n",
              "            await google.colab.kernel.invokeFunction('convertToInteractive',\n",
              "                                                     [key], {});\n",
              "          if (!dataTable) return;\n",
              "\n",
              "          const docLinkHtml = 'Like what you see? Visit the ' +\n",
              "            '<a target=\"_blank\" href=https://colab.research.google.com/notebooks/data_table.ipynb>data table notebook</a>'\n",
              "            + ' to learn more about interactive tables.';\n",
              "          element.innerHTML = '';\n",
              "          dataTable['output_type'] = 'display_data';\n",
              "          await google.colab.output.renderOutput(dataTable, element);\n",
              "          const docLink = document.createElement('div');\n",
              "          docLink.innerHTML = docLinkHtml;\n",
              "          element.appendChild(docLink);\n",
              "        }\n",
              "      </script>\n",
              "    </div>\n",
              "  </div>\n",
              "  "
            ],
            "text/plain": [
              "                                      premise  ...          label\n",
              "0                  말을 탄 사람이 고장난 비행기 위로 뛰어오른다.  ...        neutral\n",
              "1                  말을 탄 사람이 고장난 비행기 위로 뛰어오른다.  ...  contradiction\n",
              "2                  말을 탄 사람이 고장난 비행기 위로 뛰어오른다.  ...     entailment\n",
              "3                          카메라에 웃고 손을 흔드는 아이들  ...        neutral\n",
              "4                          카메라에 웃고 손을 흔드는 아이들  ...     entailment\n",
              "...                                       ...  ...            ...\n",
              "550147                      네 명의 더러운 맨발의 아이들.  ...  contradiction\n",
              "550148                      네 명의 더러운 맨발의 아이들.  ...        neutral\n",
              "550149  한 남자가 아름다운 푸른 물에서 바디슈트를 입고 서핑을 하고 있다.  ...        neutral\n",
              "550150  한 남자가 아름다운 푸른 물에서 바디슈트를 입고 서핑을 하고 있다.  ...  contradiction\n",
              "550151  한 남자가 아름다운 푸른 물에서 바디슈트를 입고 서핑을 하고 있다.  ...     entailment\n",
              "\n",
              "[550152 rows x 3 columns]"
            ]
          },
          "metadata": {},
          "execution_count": 65
        }
      ]
    },
    {
      "cell_type": "code",
      "source": [
        "premise = train['premise'].tolist()\n",
        "hypothesis = train['hypothesis'].tolist()\n",
        "check = 0\n",
        "for idx in tqdm(range(len(new))):\n",
        "  query1 = new.iloc[idx]['premise']\n",
        "  query2 = new.iloc[idx]['hypothesis']\n",
        "  if query1 in premise:\n",
        "    check += 1\n",
        "    print(f\"{idx} - item in new dataset[premise] is discovered in train dataset[premise]\")\n",
        "  if query1 in hypothesis:\n",
        "    check += 1\n",
        "    print(f\"{idx} - item is new dataset[premise] is discovered in train dataset[hypothesis]\")\n",
        "  if query2  in premise:\n",
        "    check += 1\n",
        "    print(f\"{idx} - item in new dataset[hypothesis] is discovered in train datset[premise]\")\n",
        "  if query2 in hypothesis:\n",
        "    check +=1\n",
        "    print(f\"{idx} - item in new dataset[hypothesis] is discovered in train datset[hypothesis]\")\n",
        "\n",
        "if check == 0:\n",
        "  print(\"No matches with train dataset : no data leakage\")"
      ],
      "metadata": {
        "colab": {
          "base_uri": "https://localhost:8080/"
        },
        "id": "BenD06EmcmNv",
        "outputId": "9df55255-739c-4af1-c4c5-7558977c0071"
      },
      "execution_count": 67,
      "outputs": [
        {
          "output_type": "stream",
          "name": "stderr",
          "text": [
            " 91%|█████████ | 500061/550152 [17:19<01:40, 496.70it/s]"
          ]
        },
        {
          "output_type": "stream",
          "name": "stdout",
          "text": [
            "499986 - item in new dataset[hypothesis] is discovered in test datset[hypothesis]\n"
          ]
        },
        {
          "output_type": "stream",
          "name": "stderr",
          "text": [
            "100%|██████████| 550152/550152 [19:02<00:00, 481.64it/s]\n"
          ]
        }
      ]
    },
    {
      "cell_type": "code",
      "source": [
        "premise = test['premise'].tolist()\n",
        "hypothesis = test['hypothesis'].tolist()\n",
        "check = 0\n",
        "for idx in tqdm(range(len(new))):\n",
        "  query1 = new.iloc[idx]['premise']\n",
        "  query2 = new.iloc[idx]['hypothesis']\n",
        "  if query1 in premise:\n",
        "    check += 1\n",
        "    print(f\"{idx} - item in new dataset[premise] is discovered in test dataset[premise]\")\n",
        "  if query1 in hypothesis:\n",
        "    check += 1\n",
        "    print(f\"{idx} - item is new dataset[premise] is discovered in test dataset[hypothesis]\")\n",
        "  if query2  in premise:\n",
        "    check += 1\n",
        "    print(f\"{idx} - item in new dataset[hypothesis] is discovered in test datset[premise]\")\n",
        "  if query2 in hypothesis:\n",
        "    check +=1\n",
        "    print(f\"{idx} - item in new dataset[hypothesis] is discovered in test datset[hypothesis]\")\n",
        "\n",
        "if check == 0:\n",
        "  print(\"No matches with test dataset : no data leakage\")"
      ],
      "metadata": {
        "colab": {
          "base_uri": "https://localhost:8080/"
        },
        "id": "i2_7BoOxZP-x",
        "outputId": "ced16fd4-f1b5-4c53-d28f-ed836c4de59a"
      },
      "execution_count": 68,
      "outputs": [
        {
          "output_type": "stream",
          "name": "stderr",
          "text": [
            "100%|██████████| 550152/550152 [02:25<00:00, 3775.99it/s]"
          ]
        },
        {
          "output_type": "stream",
          "name": "stdout",
          "text": [
            "No matches with test dataset : no data leakage\n"
          ]
        },
        {
          "output_type": "stream",
          "name": "stderr",
          "text": [
            "\n"
          ]
        }
      ]
    },
    {
      "cell_type": "code",
      "source": [
        "new.iloc[499986]['hypothesis']"
      ],
      "metadata": {
        "colab": {
          "base_uri": "https://localhost:8080/",
          "height": 35
        },
        "id": "OGc5g8OXZdtc",
        "outputId": "29b2a826-9edf-43e2-b027-16271a0e0d03"
      },
      "execution_count": 69,
      "outputs": [
        {
          "output_type": "execute_result",
          "data": {
            "application/vnd.google.colaboratory.intrinsic+json": {
              "type": "string"
            },
            "text/plain": [
              "'방이 깨끗하다.'"
            ]
          },
          "metadata": {},
          "execution_count": 69
        }
      ]
    },
    {
      "cell_type": "code",
      "source": [
        "train['hypothesis'].tolist().index(new.iloc[499986]['hypothesis'])"
      ],
      "metadata": {
        "colab": {
          "base_uri": "https://localhost:8080/"
        },
        "id": "nGMGjAPPn17H",
        "outputId": "9756e703-fda4-4bb5-d095-6a52ff0e4069"
      },
      "execution_count": 73,
      "outputs": [
        {
          "output_type": "execute_result",
          "data": {
            "text/plain": [
              "1939"
            ]
          },
          "metadata": {},
          "execution_count": 73
        }
      ]
    },
    {
      "cell_type": "code",
      "source": [
        "print(train.iloc[1939])\n",
        "print(new.iloc[499986])"
      ],
      "metadata": {
        "colab": {
          "base_uri": "https://localhost:8080/"
        },
        "id": "yfY19T1joKjb",
        "outputId": "399fb594-2aea-4410-c880-a85ff5125ca3"
      },
      "execution_count": 75,
      "outputs": [
        {
          "output_type": "stream",
          "name": "stdout",
          "text": [
            "index                             1939\n",
            "premise       방도 사진과 마찬가지로 깨끗하고 훌륭합니다.\n",
            "hypothesis                    방이 깨끗하다.\n",
            "label                       entailment\n",
            "Name: 1939, dtype: object\n",
            "premise       한 여자가 벽이 그을린 지저분한 방의 책상에 서 있다.\n",
            "hypothesis                          방이 깨끗하다.\n",
            "label                          contradiction\n",
            "Name: 499986, dtype: object\n"
          ]
        }
      ]
    },
    {
      "cell_type": "code",
      "source": [
        "new = new.drop(499986)\n",
        "new.iloc[499986]"
      ],
      "metadata": {
        "colab": {
          "base_uri": "https://localhost:8080/"
        },
        "id": "NHubM4aBa0k7",
        "outputId": "b49aa5e0-9cc8-4a55-f346-88573e565163"
      },
      "execution_count": 76,
      "outputs": [
        {
          "output_type": "execute_result",
          "data": {
            "text/plain": [
              "premise       한 여자가 벽이 그을린 지저분한 방의 책상에 서 있다.\n",
              "hypothesis                여자는 엉망진창인 집을 조사한다.\n",
              "label                                neutral\n",
              "Name: 499987, dtype: object"
            ]
          },
          "metadata": {},
          "execution_count": 76
        }
      ]
    },
    {
      "cell_type": "code",
      "source": [
        "train = pd.concat([train, new])"
      ],
      "metadata": {
        "id": "4H7n6Qwcdn0_"
      },
      "execution_count": 77,
      "outputs": []
    },
    {
      "cell_type": "code",
      "source": [
        "train['premise'] = train['premise'].str.replace('[^ㄱ-ㅎㅏ-ㅣ가-힣 0-9]', '')\n",
        "train['hypothesis'] = train['hypothesis'].str.replace('[^ㄱ-ㅎㅏ-ㅣ가-힣 0-9]', '')"
      ],
      "metadata": {
        "colab": {
          "base_uri": "https://localhost:8080/"
        },
        "id": "9j3MaCPEozLV",
        "outputId": "61c469ba-89ce-441c-c03c-5f11ae517ae7"
      },
      "execution_count": 80,
      "outputs": [
        {
          "output_type": "stream",
          "name": "stderr",
          "text": [
            "/usr/local/lib/python3.7/dist-packages/ipykernel_launcher.py:1: FutureWarning: The default value of regex will change from True to False in a future version.\n",
            "  \"\"\"Entry point for launching an IPython kernel.\n",
            "/usr/local/lib/python3.7/dist-packages/ipykernel_launcher.py:2: FutureWarning: The default value of regex will change from True to False in a future version.\n",
            "  \n"
          ]
        }
      ]
    },
    {
      "cell_type": "code",
      "source": [
        "train = train.drop('index', axis = 1)"
      ],
      "metadata": {
        "id": "IpBJdzc-pHPh"
      },
      "execution_count": 83,
      "outputs": []
    },
    {
      "cell_type": "code",
      "source": [
        "train.to_csv('new_big_train.csv')"
      ],
      "metadata": {
        "id": "o9HKEqQLpPOW"
      },
      "execution_count": 86,
      "outputs": []
    }
  ]
}